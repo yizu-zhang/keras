{
 "cells": [
  {
   "cell_type": "markdown",
   "metadata": {
    "colab_type": "text",
    "id": "3AWcTW2B0DEu"
   },
   "source": [
    "run these code block **sequentially** use shift+Enter"
   ]
  },
  {
   "cell_type": "code",
   "execution_count": 1,
   "metadata": {
    "colab": {},
    "colab_type": "code",
    "id": "qiGdOtp2CmDQ"
   },
   "outputs": [],
   "source": [
    "# parameter\n",
    "\n",
    "BATCH_SIZE = 512\n",
    "EPOCHS = 100\n",
    "train_size = 200000\n",
    "test_size =  100000"
   ]
  },
  {
   "cell_type": "code",
   "execution_count": 2,
   "metadata": {
    "colab": {
     "base_uri": "https://localhost:8080/",
     "height": 54
    },
    "colab_type": "code",
    "id": "29liKyfiK60k",
    "outputId": "cf59089d-66f0-4989-d484-f8ff34515808"
   },
   "outputs": [
    {
     "name": "stderr",
     "output_type": "stream",
     "text": [
      "Using TensorFlow backend.\n"
     ]
    },
    {
     "name": "stdout",
     "output_type": "stream",
     "text": [
      "Tensorflow version 1.14.0\n",
      "Keras version 2.3.1\n"
     ]
    }
   ],
   "source": [
    "import keras\n",
    "import numpy as np\n",
    "from numpy import array\n",
    "import csv\n",
    "from sklearn.preprocessing import *\n",
    "import os, re, math, json, shutil, pprint\n",
    "import PIL.Image, PIL.ImageFont, PIL.ImageDraw\n",
    "import IPython.display as display\n",
    "import numpy as np\n",
    "import tensorflow as tf\n",
    "from matplotlib import pyplot as plt\n",
    "\n",
    "print(\"Tensorflow version \" + tf.__version__)\n",
    "print(\"Keras version \" + keras.__version__)"
   ]
  },
  {
   "cell_type": "code",
   "execution_count": 3,
   "metadata": {
    "colab": {},
    "colab_type": "code",
    "id": "tKSmzH6EBBNk"
   },
   "outputs": [],
   "source": [
    "#@title visualization utilities [RUN ME]\n",
    "\"\"\"\n",
    "This cell contains helper functions used for visualization\n",
    "and downloads only. You can skip reading it. There is very\n",
    "little useful Keras/Tensorflow code here.\n",
    "\"\"\"\n",
    "\n",
    "# Matplotlib config\n",
    "plt.ioff()\n",
    "plt.rc('image', cmap='gray_r')\n",
    "plt.rc('grid', linewidth=1)\n",
    "plt.rc('xtick', top=False, bottom=False, labelsize='large')\n",
    "plt.rc('ytick', left=False, right=False, labelsize='large')\n",
    "plt.rc('axes', facecolor='F8F8F8', titlesize=\"large\", edgecolor='white')\n",
    "plt.rc('text', color='a8151a')\n",
    "plt.rc('figure', facecolor='F0F0F0', figsize=(16,9))\n",
    "# Matplotlib fonts\n",
    "MATPLOTLIB_FONT_DIR = os.path.join(os.path.dirname(plt.__file__), \"mpl-data/fonts/ttf\")\n",
    "\n",
    "# pull a batch from the datasets. This code is not very nice, it gets much better in eager mode (TODO)\n",
    "def dataset_to_numpy_util(training_dataset, validation_dataset, N):\n",
    "  \n",
    "  # get one batch from each: 10000 validation digits, N training digits\n",
    "  batch_train_ds = training_dataset.apply(tf.data.experimental.unbatch()).batch(N)\n",
    "  \n",
    "  # eager execution: loop through datasets normally\n",
    "  if tf.executing_eagerly():\n",
    "    for validation_digits, validation_labels in validation_dataset:\n",
    "      validation_digits = validation_digits.numpy()\n",
    "      validation_labels = validation_labels.numpy()\n",
    "      break\n",
    "    for training_digits, training_labels in batch_train_ds:\n",
    "      training_digits = training_digits.numpy()\n",
    "      training_labels = training_labels.numpy()\n",
    "      break\n",
    "    \n",
    "  else:\n",
    "    v_images, v_labels = validation_dataset.make_one_shot_iterator().get_next()\n",
    "    t_images, t_labels = batch_train_ds.make_one_shot_iterator().get_next()\n",
    "    # Run once, get one batch. Session.run returns numpy results\n",
    "    with tf.Session() as ses:\n",
    "      (validation_digits, validation_labels,\n",
    "       training_digits, training_labels) = ses.run([v_images, v_labels, t_images, t_labels])\n",
    "  \n",
    "  # these were one-hot encoded in the dataset\n",
    "  validation_labels = np.argmax(validation_labels, axis=1)\n",
    "  training_labels = np.argmax(training_labels, axis=1)\n",
    "  \n",
    "  return (training_digits, training_labels,\n",
    "          validation_digits, validation_labels)\n",
    "\n",
    "# create digits from local fonts for testing\n",
    "def create_digits_from_local_fonts(n):\n",
    "  font_labels = []\n",
    "  img = PIL.Image.new('LA', (28*n, 28), color = (0,255)) # format 'LA': black in channel 0, alpha in channel 1\n",
    "  font1 = PIL.ImageFont.truetype(os.path.join(MATPLOTLIB_FONT_DIR, 'DejaVuSansMono-Oblique.ttf'), 25)\n",
    "  font2 = PIL.ImageFont.truetype(os.path.join(MATPLOTLIB_FONT_DIR, 'STIXGeneral.ttf'), 25)\n",
    "  d = PIL.ImageDraw.Draw(img)\n",
    "  for i in range(n):\n",
    "    font_labels.append(i%10)\n",
    "    d.text((7+i*28,0 if i<10 else -4), str(i%10), fill=(255,255), font=font1 if i<10 else font2)\n",
    "  font_digits = np.array(img.getdata(), np.float32)[:,0] / 255.0 # black in channel 0, alpha in channel 1 (discarded)\n",
    "  font_digits = np.reshape(np.stack(np.split(np.reshape(font_digits, [28, 28*n]), n, axis=1), axis=0), [n, 28*28])\n",
    "  return font_digits, font_labels\n",
    "\n",
    "# utility to display a row of digits with their predictions\n",
    "def display_digits(digits, predictions, labels, title, n):\n",
    "  fig = plt.figure(figsize=(13,3))\n",
    "  digits = np.reshape(digits, [n, 28, 28])\n",
    "  digits = np.swapaxes(digits, 0, 1)\n",
    "  digits = np.reshape(digits, [28, 28*n])\n",
    "  plt.yticks([])\n",
    "  plt.xticks([28*x+14 for x in range(n)], predictions)\n",
    "  plt.grid(b=None)\n",
    "  for i,t in enumerate(plt.gca().xaxis.get_ticklabels()):\n",
    "    if predictions[i] != labels[i]: t.set_color('red') # bad predictions in red\n",
    "  plt.imshow(digits)\n",
    "  plt.grid(None)\n",
    "  plt.title(title)\n",
    "  display.display(fig)\n",
    "  \n",
    "# utility to display multiple rows of digits, sorted by unrecognized/recognized status\n",
    "def display_top_unrecognized(digits, predictions, labels, n, lines):\n",
    "  idx = np.argsort(predictions==labels) # sort order: unrecognized first\n",
    "  for i in range(lines):\n",
    "    display_digits(digits[idx][i*n:(i+1)*n], predictions[idx][i*n:(i+1)*n], labels[idx][i*n:(i+1)*n],\n",
    "                   \"{} sample validation digits out of {} with bad predictions in red and sorted first\".format(n*lines, len(digits)) if i==0 else \"\", n)\n",
    "\n",
    "def plot_learning_rate(lr_func, epochs):\n",
    "  xx = np.arange(epochs+1, dtype=np.float)\n",
    "  y = [lr_decay(x) for x in xx]\n",
    "  fig, ax = plt.subplots(figsize=(9, 6))\n",
    "  ax.set_xlabel('epochs')\n",
    "  ax.set_title('Learning rate\\ndecays from {:0.3g} to {:0.3g}'.format(y[0], y[-2]))\n",
    "  ax.minorticks_on()\n",
    "  ax.grid(True, which='major', axis='both', linestyle='-', linewidth=1)\n",
    "  ax.grid(True, which='minor', axis='both', linestyle=':', linewidth=0.5)\n",
    "  ax.step(xx,y, linewidth=3, where='post')\n",
    "  display.display(fig)\n",
    "\n",
    "class PlotTraining(tf.keras.callbacks.Callback):\n",
    "  def __init__(self, sample_rate=1, zoom=1):\n",
    "    self.sample_rate = sample_rate\n",
    "    self.step = 0\n",
    "    self.zoom = zoom\n",
    "    self.steps_per_epoch = 60000//BATCH_SIZE\n",
    "\n",
    "  def on_train_begin(self, logs={}):\n",
    "    self.batch_history = {}\n",
    "    self.batch_step = []\n",
    "    self.epoch_history = {}\n",
    "    self.epoch_step = []\n",
    "    self.fig, self.axes = plt.subplots(1, 2, figsize=(16, 7))\n",
    "    plt.ioff()\n",
    "\n",
    "  def on_batch_end(self, batch, logs={}):\n",
    "    if (batch % self.sample_rate) == 0:\n",
    "      self.batch_step.append(self.step)\n",
    "      for k,v in logs.items():\n",
    "        # do not log \"batch\" and \"size\" metrics that do not change\n",
    "        # do not log training accuracy \"acc\"\n",
    "        if k=='batch' or k=='size':# or k=='acc':\n",
    "          continue\n",
    "        self.batch_history.setdefault(k, []).append(v)\n",
    "    self.step += 1\n",
    "\n",
    "  def on_epoch_end(self, epoch, logs={}):\n",
    "    plt.close(self.fig)\n",
    "    self.axes[0].cla()\n",
    "    self.axes[1].cla()\n",
    "      \n",
    "#     self.axes[0].set_ylim(0, 1.2/self.zoom)\n",
    "#     self.axes[1].set_ylim(1-1/self.zoom/2, 1+0.1/self.zoom/2)\n",
    "    \n",
    "    self.epoch_step.append(self.step)\n",
    "    for k,v in logs.items():\n",
    "      # only log validation metrics\n",
    "      if not k.startswith('val_'):\n",
    "        continue\n",
    "      self.epoch_history.setdefault(k, []).append(v)\n",
    "\n",
    "    display.clear_output(wait=True)\n",
    "    \n",
    "    for k,v in self.batch_history.items():\n",
    "      self.axes[0 if k.endswith('loss') else 1].plot(np.array(self.batch_step) / self.steps_per_epoch, v, label=k)\n",
    "      \n",
    "    for k,v in self.epoch_history.items():\n",
    "      self.axes[0 if k.endswith('loss') else 1].plot(np.array(self.epoch_step) / self.steps_per_epoch, v, label=k, linewidth=3)\n",
    "      \n",
    "    self.axes[0].legend()\n",
    "    self.axes[1].legend()\n",
    "    self.axes[0].set_xlabel('epochs')\n",
    "    self.axes[1].set_xlabel('epochs')\n",
    "    self.axes[0].minorticks_on()\n",
    "    self.axes[0].grid(True, which='major', axis='both', linestyle='-', linewidth=1)\n",
    "    self.axes[0].grid(True, which='minor', axis='both', linestyle=':', linewidth=0.5)\n",
    "    self.axes[1].minorticks_on()\n",
    "    self.axes[1].grid(True, which='major', axis='both', linestyle='-', linewidth=1)\n",
    "    self.axes[1].grid(True, which='minor', axis='both', linestyle=':', linewidth=0.5)\n",
    "    display.display(self.fig)"
   ]
  },
  {
   "cell_type": "markdown",
   "metadata": {
    "colab_type": "text",
    "id": "iKZNOFr2mwl9"
   },
   "source": [
    "the next part is to add train and test data,\n",
    "click run and upload from local environment"
   ]
  },
  {
   "cell_type": "code",
   "execution_count": 4,
   "metadata": {
    "colab": {},
    "colab_type": "code",
    "id": "34KSRHjrNWk8"
   },
   "outputs": [],
   "source": [
    "import pandas as pd\n",
    "df = pd.read_csv('interact_costas2.csv', header=None)\n",
    "\n",
    "# shuffle data if necessary\n",
    "# df = df.iloc[0:90000,:]\n",
    "# df = df.sample(frac=1, axis=0).reset_index(drop=False)\n",
    "\n",
    "\n",
    "# # format of train/test data\n",
    "# # [x y z]\n",
    "# # energy [kJ/mol]\n",
    "train_cord = df.iloc[0:train_size, 0:3].values\n",
    "train_cord = train_cord - 0.5\n",
    "train_label1 = df.iloc[0:train_size, 3].values\n",
    "train_label1 = np.reshape(train_label1, (train_size, 1))\n",
    "\n",
    "valid_cord = df.iloc[train_size:(train_size+test_size), 0:3].values\n",
    "valid_cord = valid_cord - 0.5\n",
    "valid_label1 = df.iloc[train_size:(train_size+test_size),3].values\n",
    "valid_label1 = np.reshape(valid_label1, (test_size, 1))\n",
    "\n",
    "\n",
    "\n",
    "# power transformation of energy\n",
    "# from train data\n",
    "scaler = PowerTransformer(method=\"box-cox\")\n",
    "train_label2 = scaler.fit_transform(train_label1)\n",
    "valid_label2 = scaler.transform(valid_label1)\n",
    "\n",
    "# shift = np.min(train_label2)\n",
    "# print(shift)\n",
    "\n",
    "train_label = train_label2\n",
    "valid_label = valid_label2\n",
    "\n",
    "df2 = pd.DataFrame(np.vstack([train_label, valid_label]))\n",
    "df2.to_csv('output_transformed_dispersion.csv', index=False, header=False)\n",
    "# print(np.min(train_label),np.max(train_label), np.min(train_cord), np.max(train_cord), np.mean(train_label))"
   ]
  },
  {
   "cell_type": "markdown",
   "metadata": {
    "colab_type": "text",
    "id": "Laf1kWvNy01Y"
   },
   "source": [
    "check train and test data dimensions "
   ]
  },
  {
   "cell_type": "code",
   "execution_count": 5,
   "metadata": {
    "colab": {
     "base_uri": "https://localhost:8080/",
     "height": 35
    },
    "colab_type": "code",
    "id": "_NahhIBaNo3l",
    "outputId": "ddb4fd50-2ab9-4840-8ba8-9f2192ae4126"
   },
   "outputs": [
    {
     "data": {
      "text/plain": [
       "(200000, 3)"
      ]
     },
     "execution_count": 5,
     "metadata": {},
     "output_type": "execute_result"
    }
   ],
   "source": [
    "train_cord.shape"
   ]
  },
  {
   "cell_type": "code",
   "execution_count": 6,
   "metadata": {
    "colab": {
     "base_uri": "https://localhost:8080/",
     "height": 35
    },
    "colab_type": "code",
    "id": "A8UBr2vb9IEJ",
    "outputId": "cc5cb6d2-0146-463c-fba0-14feadb683f9"
   },
   "outputs": [
    {
     "data": {
      "text/plain": [
       "(200000, 1)"
      ]
     },
     "execution_count": 6,
     "metadata": {},
     "output_type": "execute_result"
    }
   ],
   "source": [
    "train_label1.shape"
   ]
  },
  {
   "cell_type": "code",
   "execution_count": 7,
   "metadata": {
    "colab": {
     "base_uri": "https://localhost:8080/",
     "height": 35
    },
    "colab_type": "code",
    "id": "UEt5yJBMlRRf",
    "outputId": "2bc077da-0044-4fdc-e3ac-7ccb147a55a1"
   },
   "outputs": [
    {
     "data": {
      "text/plain": [
       "(100000, 3)"
      ]
     },
     "execution_count": 7,
     "metadata": {},
     "output_type": "execute_result"
    }
   ],
   "source": [
    "valid_cord.shape"
   ]
  },
  {
   "cell_type": "code",
   "execution_count": 8,
   "metadata": {
    "colab": {
     "base_uri": "https://localhost:8080/",
     "height": 35
    },
    "colab_type": "code",
    "id": "eX-KyU8clOyn",
    "outputId": "632f3d5d-5fb1-4a79-95f9-659f3ef84748"
   },
   "outputs": [
    {
     "data": {
      "text/plain": [
       "(100000, 1)"
      ]
     },
     "execution_count": 8,
     "metadata": {},
     "output_type": "execute_result"
    }
   ],
   "source": [
    "valid_label1.shape"
   ]
  },
  {
   "cell_type": "markdown",
   "metadata": {
    "colab_type": "text",
    "id": "Q56OGxwczCFa"
   },
   "source": [
    "this is the part to set up NN model\n",
    "sequentially we add layers with # of neurons and activation defined\n",
    "\n",
    "the shape of the layers will printed in the next section"
   ]
  },
  {
   "cell_type": "code",
   "execution_count": 9,
   "metadata": {
    "colab": {},
    "colab_type": "code",
    "id": "dJZ1J_f5Nvln"
   },
   "outputs": [],
   "source": [
    "from keras import models\n",
    "from keras import layers\n",
    "\n",
    "network = models.Sequential()\n",
    "elu = keras.layers.ELU(alpha=5.0)\n",
    "network.add(layers.Dense(12, activation='elu', input_shape=(train_cord.shape[1],)))\n",
    "network.add(layers.Dense(12, activation='elu'))\n",
    "network.add(layers.Dense(6, activation='elu'))\n",
    "network.add(layers.Dense(6, activation='elu'))\n",
    "network.add(layers.Dense(1))"
   ]
  },
  {
   "cell_type": "markdown",
   "metadata": {
    "colab_type": "text",
    "id": "sK1gyR0vzODZ"
   },
   "source": [
    "this is the part to set up your optimizer for fitting the model\n",
    "we use Stochastic gradient descent (please refer to documentation for details)\n",
    "\n",
    "also compile the whole thing with the settings of optimizer, loss function of mean square error, and metrics of mean absolute error\n",
    "\n",
    "set up a cool learning rate feature to control step of optimization"
   ]
  },
  {
   "cell_type": "code",
   "execution_count": 10,
   "metadata": {
    "colab": {
     "base_uri": "https://localhost:8080/",
     "height": 345
    },
    "colab_type": "code",
    "id": "6Q7HJyfSRYyJ",
    "outputId": "9ba11e1f-7cf8-4148-807a-b360aa5e4dc0"
   },
   "outputs": [
    {
     "name": "stdout",
     "output_type": "stream",
     "text": [
      "Model: \"sequential_1\"\n",
      "_________________________________________________________________\n",
      "Layer (type)                 Output Shape              Param #   \n",
      "=================================================================\n",
      "dense_1 (Dense)              (None, 12)                48        \n",
      "_________________________________________________________________\n",
      "dense_2 (Dense)              (None, 12)                156       \n",
      "_________________________________________________________________\n",
      "dense_3 (Dense)              (None, 6)                 78        \n",
      "_________________________________________________________________\n",
      "dense_4 (Dense)              (None, 6)                 42        \n",
      "_________________________________________________________________\n",
      "dense_5 (Dense)              (None, 1)                 7         \n",
      "=================================================================\n",
      "Total params: 331\n",
      "Trainable params: 331\n",
      "Non-trainable params: 0\n",
      "_________________________________________________________________\n"
     ]
    }
   ],
   "source": [
    "from keras import optimizers\n",
    "\n",
    "# All parameter gradients will be clipped to\n",
    "# a maximum norm of 1.\n",
    "adam = optimizers.Adam(lr=0.001, beta_1=0.9, beta_2=0.999, amsgrad=False)\n",
    "\n",
    "network.compile(optimizer=adam,\n",
    "                loss='mse',\n",
    "                metrics=['mae'])\n",
    "\n",
    "# lr decay function\n",
    "# def lr_decay(epoch):\n",
    "  # return 1 * math.pow(0.97, epoch)\n",
    "\n",
    "# lr schedule callback\n",
    "# lr_decay_callback = tf.keras.callbacks.LearningRateScheduler(lr_decay, verbose=True)\n",
    "\n",
    "# important to see what you are doing\n",
    "# plot_learning_rate(lr_decay, EPOCHS)\n",
    "\n",
    "\n",
    "# print model layers\n",
    "network.summary()\n",
    "\n",
    "# utility callback that displays training curves\n",
    "plot_training = PlotTraining(sample_rate=10, zoom=1)"
   ]
  },
  {
   "cell_type": "code",
   "execution_count": 11,
   "metadata": {
    "colab": {
     "base_uri": "https://localhost:8080/",
     "height": 449
    },
    "colab_type": "code",
    "id": "x6k-ckZjDCvH",
    "outputId": "94935944-f168-4072-a70d-9ff5f104d999"
   },
   "outputs": [
    {
     "data": {
      "image/png": "[encoded data removed]",
      "text/plain": [
       "<Figure size 1152x504 with 2 Axes>"
      ]
     },
     "metadata": {},
     "output_type": "display_data"
    }
   ],
   "source": [
    "steps_per_epoch = train_size//BATCH_SIZE \n",
    "print(\"Steps per epoch: \", steps_per_epoch)\n",
    "\n",
    "keras.callbacks.callbacks.EarlyStopping(monitor='val_loss', min_delta=1e-6, patience=50, verbose=0, \n",
    "                                        mode='auto', baseline=None, restore_best_weights=True)\n",
    "\n",
    "history = network.fit(train_cord, train_label, steps_per_epoch=steps_per_epoch, epochs=EPOCHS,\n",
    "                      validation_data=(valid_cord, valid_label), validation_steps=steps_per_epoch, callbacks=[plot_training])\n"
   ]
  },
  {
   "cell_type": "code",
   "execution_count": 12,
   "metadata": {
    "colab": {
     "base_uri": "https://localhost:8080/",
     "height": 1000
    },
    "colab_type": "code",
    "id": "Y1HMp5btwqdt",
    "outputId": "4524cd28-dbf3-441e-a31a-563f0f965304"
   },
   "outputs": [
    {
     "name": "stdout",
     "output_type": "stream",
     "text": [
      "dispersion_weights.h5 contains: \n",
      "Root attributes:\n",
      "  backend: b'tensorflow'\n",
      "  keras_version: b'2.3.1'\n",
      "  layer_names: [b'dense_1' b'dense_2' b'dense_3' b'dense_4' b'dense_5']\n",
      "  dense_1\n",
      "    Attributes:\n",
      "      weight_names: [b'dense_1/kernel:0' b'dense_1/bias:0']\n",
      "    Dataset:\n",
      "      dense_1/bias:0: [-0.25775275  0.28678876  0.2643439   0.46315253  0.0933755   0.18621105\n",
      "  0.11812165  0.2096263   0.37231186  0.23732908  0.10760377  0.5671652 ]\n",
      "      dense_1/kernel:0: [[-0.0681802  -0.90260804 -1.1975281  -1.0764484   0.82253176 -0.01509103\n",
      "   0.33916536  0.20835264  0.09374586 -0.06459437  0.09469884  0.72231585]\n",
      " [-1.1537647  -0.12805061 -0.03898297 -0.8994334   0.33160818 -0.11977405\n",
      "  -0.4280098   0.7566124   0.8953221   1.4053131   0.567035   -1.3041838 ]\n",
      " [ 0.58220226  0.8322852  -0.5638586  -0.12346685 -0.40961432  1.4419625\n",
      "  -1.0433028   0.82048506 -0.02006174 -0.0162726   1.2381089   0.42953408]]\n",
      "  dense_2\n",
      "    Attributes:\n",
      "      weight_names: [b'dense_2/kernel:0' b'dense_2/bias:0']\n",
      "    Dataset:\n",
      "      dense_2/bias:0: [ 0.27461696  0.19544287  0.07263946  0.07552006 -0.03366921 -0.0960948\n",
      " -0.02886608 -0.11568889 -0.932484   -0.1447062  -0.3309621  -0.19687968]\n",
      "      dense_2/kernel:0: [[ 9.55741182e-02 -7.62310207e-01 -9.23912942e-01  1.42914280e-01\n",
      "  -5.64929962e-01  6.16769195e-01  7.35769451e-01  7.29478061e-01\n",
      "  -5.05475819e-01 -2.75065273e-01  5.39333582e-01  1.11641967e+00]\n",
      " [-6.08886778e-01  2.60434300e-01  2.74450719e-01  3.44260484e-01\n",
      "   7.87743092e-01  4.74129140e-01  4.90516312e-02  1.01306178e-01\n",
      "  -1.62918076e-01  1.91332981e-01  4.85589296e-01 -2.11705849e-01]\n",
      " [-1.07544804e+00 -7.03471839e-01 -8.44352990e-02  1.08846974e+00\n",
      "   6.28970504e-01 -2.80941427e-01 -2.44377628e-01 -4.79436852e-03\n",
      "  -3.38224918e-01 -5.03018439e-01  3.47747989e-02 -9.60314721e-02]\n",
      " [-8.53920162e-01  5.30662775e-01 -6.47374094e-01  5.94874084e-01\n",
      "   7.82191396e-01 -4.05154154e-02 -3.29825372e-01 -1.34609178e-01\n",
      "  -6.07077293e-02 -8.92341197e-01 -6.89509213e-01  5.34572363e-01]\n",
      " [ 7.22464025e-01 -3.11548293e-01  1.44826388e-02 -6.34222209e-01\n",
      "  -8.83672595e-01  3.02470159e-02 -3.89161885e-01 -3.44366878e-02\n",
      "   3.53223443e-01  1.48029923e-01 -7.26189613e-01 -7.24044502e-01]\n",
      " [ 1.62458303e-03  1.37262061e-01 -4.42574561e-01  3.24215293e-02\n",
      "  -1.03136073e-04  4.07009095e-01  6.23938680e-01  4.71070558e-01\n",
      "  -1.92893589e+00 -2.43968144e-01  5.20870268e-01 -1.38364860e-03]\n",
      " [ 7.53735483e-01 -2.84764379e-01 -3.43537241e-01 -3.20843533e-02\n",
      "  -6.28193676e-01 -6.71877146e-01 -4.85786408e-01  4.57841694e-01\n",
      "  -1.28805518e-01  1.04153492e-01 -5.83889127e-01  6.86003923e-01]\n",
      " [ 7.77899981e-01 -2.79144406e-01 -1.16821535e-01  3.22089195e-01\n",
      "  -5.10739386e-01  3.64721477e-01  6.16325557e-01 -2.40590602e-01\n",
      "   2.58167356e-01 -2.15345800e-01  1.00347114e+00 -1.01583675e-01]\n",
      " [ 2.55939062e-03  4.80832070e-01  1.31791249e-01 -2.44752347e-01\n",
      "  -3.86132509e-01 -4.61835898e-02  1.90912351e-01 -5.70997775e-01\n",
      "  -6.27461672e-01  2.49778286e-01  2.36874737e-04 -6.16095543e-01]\n",
      " [-7.83383548e-02 -5.00578582e-01  4.89170551e-01 -1.66516993e-02\n",
      "  -9.93655920e-02  6.25712335e-01 -3.30372751e-02 -9.93426815e-02\n",
      "   8.14370662e-02 -3.58471632e-01 -6.97986960e-01 -2.25335383e+00]\n",
      " [-2.55701154e-01  3.14700395e-01  5.85670292e-01  1.42465726e-01\n",
      "  -1.28981501e-01  3.20292622e-01  5.52641571e-01 -6.40907288e-01\n",
      "   2.72586316e-01 -1.90017298e-01  1.00139821e+00 -2.69420475e-01]\n",
      " [ 4.61236835e-01  3.08900446e-01 -8.51926088e-01 -6.48851275e-01\n",
      "  -9.49888766e-01  5.55184424e-01  1.13681480e-01  7.26092815e-01\n",
      "  -8.95728916e-02  3.91649365e-01  3.37353587e-01  1.17777705e+00]]\n",
      "  dense_3\n",
      "    Attributes:\n",
      "      weight_names: [b'dense_3/kernel:0' b'dense_3/bias:0']\n",
      "    Dataset:\n",
      "      dense_3/bias:0: [ 0.28044885  0.02012029 -0.25445324 -0.22270873 -0.13327189  0.05040243]\n",
      "      dense_3/kernel:0: [[ 0.53052914 -0.15297283  0.7744895  -0.00599688  0.14022762  0.01878146]\n",
      " [-0.13271192  0.14135371 -0.3957265  -0.53087157 -0.4823758  -0.13411726]\n",
      " [-0.35095084 -0.2655257  -0.15208967  0.09417512 -0.77053386  0.21673685]\n",
      " [-0.5639955   0.52611035  0.7188928   0.40882275  0.9429815   0.53048223]\n",
      " [ 0.47364548 -0.7917152   0.2579213  -0.6323233  -0.46875155  0.93214685]\n",
      " [ 0.5405244   0.39567024  0.9398656  -0.13009189  0.61437327 -0.5808132 ]\n",
      " [ 0.17369802  0.32436746  0.5823983   0.31499428  0.7731686   0.08059129]\n",
      " [-0.6963568   0.02937948  1.2721213  -0.10645257  0.5150105  -0.41011187]\n",
      " [-0.20876025  0.43372834  0.21837902  0.13068344 -0.7259268   0.5176095 ]\n",
      " [ 0.0817812  -0.5215805  -0.0348735  -0.70395255 -0.67642057  0.28702313]\n",
      " [ 0.46595886 -1.1034989  -1.1363437   0.21798585 -0.6191746   0.5598076 ]\n",
      " [ 0.153651   -0.08103755 -0.5652399   0.07839139 -0.5100112   0.31510246]]\n",
      "  dense_4\n",
      "    Attributes:\n",
      "      weight_names: [b'dense_4/kernel:0' b'dense_4/bias:0']\n",
      "    Dataset:\n",
      "      dense_4/bias:0: [ 0.29528618  0.22088045 -0.06517969 -0.23912592  0.32327726  0.2688138 ]\n",
      "      dense_4/kernel:0: [[-0.16792147  0.6970278  -0.15726367 -0.4186854   0.44990644  0.67494446]\n",
      " [ 0.25544167  0.45826596  0.99032694  0.03694162 -1.2715254   0.08206382]\n",
      " [ 0.46457943 -0.5594183  -0.51619023  1.9873148  -1.4959302   0.06346434]\n",
      " [ 0.13856637 -0.8480805   0.28899896 -0.60755444 -1.9567652  -0.6608104 ]\n",
      " [ 0.06380532 -0.6333638   0.67698693  0.6844549  -0.9041508  -0.17471302]\n",
      " [-0.47316393 -0.774266   -1.0905727  -1.0491167   0.6353403  -0.22437197]]\n",
      "  dense_5\n",
      "    Attributes:\n",
      "      weight_names: [b'dense_5/kernel:0' b'dense_5/bias:0']\n",
      "    Dataset:\n",
      "      dense_5/bias:0: [0.10238446]\n",
      "      dense_5/kernel:0: [[ 1.6398675 ]\n",
      " [-0.35930985]\n",
      " [-0.48242983]\n",
      " [-0.50823957]\n",
      " [ 2.2248254 ]\n",
      " [ 0.5576051 ]]\n"
     ]
    }
   ],
   "source": [
    "# for layer in network.layers:\n",
    "#     weights = layer.get_weights()\n",
    "#     print(*(node for node in weights))# ( for node in layer.get_weights())\n",
    "\n",
    "from __future__ import print_function\n",
    "\n",
    "import h5py\n",
    "\n",
    "def print_structure(weight_file_path):\n",
    "    \"\"\"\n",
    "    Prints out the structure of HDF5 file.\n",
    "\n",
    "    Args:\n",
    "      weight_file_path (str) : Path to the file to analyze\n",
    "    \"\"\"\n",
    "    f = h5py.File(weight_file_path)\n",
    "    try:\n",
    "        if len(f.attrs.items()):\n",
    "            print(\"{} contains: \".format(weight_file_path))\n",
    "            print(\"Root attributes:\")\n",
    "        for key, value in f.attrs.items():\n",
    "            print(\"  {}: {}\".format(key, value))\n",
    "\n",
    "        if len(f.items())==0:\n",
    "            return \n",
    "\n",
    "        for layer, g in f.items():\n",
    "            print(\"  {}\".format(layer))\n",
    "            print(\"    Attributes:\")\n",
    "            for key, value in g.attrs.items():\n",
    "                print(\"      {}: {}\".format(key, value))\n",
    "\n",
    "            print(\"    Dataset:\")\n",
    "            for p_name in g.keys():\n",
    "                param = g[p_name]\n",
    "                subkeys = param.keys()\n",
    "                for k_name in param.keys():\n",
    "                    print(\"      {}/{}: {}\".format(p_name, k_name, param.get(k_name)[:]))\n",
    "    finally:\n",
    "        f.close()\n",
    "\n",
    "network.save_weights('dispersion_weights.h5')\n",
    "print_structure('dispersion_weights.h5')"
   ]
  },
  {
   "cell_type": "code",
   "execution_count": 15,
   "metadata": {
    "colab": {
     "base_uri": "https://localhost:8080/",
     "height": 199
    },
    "colab_type": "code",
    "id": "c_Tj2BOjUST-",
    "outputId": "fd5874d8-2bf9-4a5b-fbcb-936b722e1b85"
   },
   "outputs": [
    {
     "name": "stdout",
     "output_type": "stream",
     "text": [
      "        0       1       2            3\n",
      "0  0.5000  0.5000  0.5000    20.643788\n",
      "1  0.7500  0.2500  0.7500   165.150439\n",
      "2  0.2500  0.7500  0.2500   165.150439\n",
      "3  0.3750  0.3750  0.6250    29.461536\n",
      "4  0.8750  0.8750  0.1250  9718.982990\n",
      "5  0.6250  0.1250  0.3750    56.677883\n",
      "6  0.1250  0.6250  0.8750   217.050330\n",
      "7  0.1875  0.3125  0.3125    96.833231\n",
      "8  0.6875  0.8125  0.8125   225.419932\n",
      "9  0.9375  0.0625  0.5625   161.862947\n",
      "[[  20.150671]\n",
      " [ 162.73184 ]\n",
      " [ 162.36967 ]\n",
      " [  29.892277]\n",
      " [9834.02    ]\n",
      " [  55.365776]\n",
      " [ 208.19199 ]\n",
      " [  94.77525 ]\n",
      " [ 225.6054  ]\n",
      " [ 158.53745 ]]\n"
     ]
    }
   ],
   "source": [
    "train_pred = network.predict(train_cord)\n",
    "valid_pred = network.predict(valid_cord)\n",
    "\n",
    "train_pred_inverse = scaler.inverse_transform(train_pred)\n",
    "valid_pred_inverse = scaler.inverse_transform(valid_pred)\n",
    "print(df[0:10])\n",
    "print(train_pred_inverse[0:10])"
   ]
  },
  {
   "cell_type": "code",
   "execution_count": 14,
   "metadata": {
    "colab": {},
    "colab_type": "code",
    "id": "HOWChmh3xsib"
   },
   "outputs": [],
   "source": [
    "df3 = pd.DataFrame(np.vstack([train_pred_inverse,valid_pred_inverse]))\n",
    "df3.to_csv('dispersion_total_pred_inverse.csv', index=False, header=False)"
   ]
  },
  {
   "cell_type": "code",
   "execution_count": null,
   "metadata": {},
   "outputs": [],
   "source": []
  },
  {
   "cell_type": "code",
   "execution_count": null,
   "metadata": {},
   "outputs": [],
   "source": []
  },
  {
   "cell_type": "code",
   "execution_count": null,
   "metadata": {},
   "outputs": [],
   "source": []
  }
 ],
 "metadata": {
  "colab": {
   "collapsed_sections": [],
   "name": "rd_keras.ipynb",
   "provenance": []
  },
  "kernelspec": {
   "display_name": "Python 3",
   "language": "python",
   "name": "python3"
  },
  "language_info": {
   "codemirror_mode": {
    "name": "ipython",
    "version": 3
   },
   "file_extension": ".py",
   "mimetype": "text/x-python",
   "name": "python",
   "nbconvert_exporter": "python",
   "pygments_lexer": "ipython3",
   "version": "3.7.3"
  }
 },
 "nbformat": 4,
 "nbformat_minor": 1
}
