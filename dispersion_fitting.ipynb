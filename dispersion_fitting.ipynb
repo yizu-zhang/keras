{
  "nbformat": 4,
  "nbformat_minor": 0,
  "metadata": {
    "colab": {
      "name": "rd_keras.ipynb",
      "provenance": [],
      "collapsed_sections": []
    },
    "kernelspec": {
      "name": "python3",
      "display_name": "Python 3"
    }
  },
  "cells": [
    {
      "cell_type": "markdown",
      "metadata": {
        "id": "3AWcTW2B0DEu",
        "colab_type": "text"
      },
      "source": [
        "run these code block **sequentially** use shift+Enter"
      ]
    },
    {
      "cell_type": "code",
      "metadata": {
        "id": "qiGdOtp2CmDQ",
        "colab_type": "code",
        "colab": {}
      },
      "source": [
        "# parameter\n",
        "\n",
        "BATCH_SIZE = 512\n",
        "EPOCHS = 100\n",
        "train_size = 200000\n",
        "test_size =  100000"
      ],
      "execution_count": 0,
      "outputs": []
    },
    {
      "cell_type": "code",
      "metadata": {
        "id": "29liKyfiK60k",
        "colab_type": "code",
        "outputId": "cf59089d-66f0-4989-d484-f8ff34515808",
        "colab": {
          "base_uri": "https://localhost:8080/",
          "height": 54
        }
      },
      "source": [
        "import keras\n",
        "import numpy as np\n",
        "from numpy import array\n",
        "from google.colab import files\n",
        "import csv\n",
        "from sklearn.preprocessing import *\n",
        "import os, re, math, json, shutil, pprint\n",
        "import PIL.Image, PIL.ImageFont, PIL.ImageDraw\n",
        "import IPython.display as display\n",
        "import numpy as np\n",
        "import tensorflow as tf\n",
        "from matplotlib import pyplot as plt\n",
        "#tf.enable_eager_execution()\n",
        "print(\"Tensorflow version \" + tf.__version__)\n",
        "print(\"Keras version \" + keras.__version__)"
      ],
      "execution_count": 0,
      "outputs": [
        {
          "output_type": "stream",
          "text": [
            "Tensorflow version 1.14.0\n",
            "Keras version 2.2.5\n"
          ],
          "name": "stdout"
        }
      ]
    },
    {
      "cell_type": "code",
      "metadata": {
        "id": "tKSmzH6EBBNk",
        "colab_type": "code",
        "colab": {}
      },
      "source": [
        "#@title visualization utilities [RUN ME]\n",
        "\"\"\"\n",
        "This cell contains helper functions used for visualization\n",
        "and downloads only. You can skip reading it. There is very\n",
        "little useful Keras/Tensorflow code here.\n",
        "\"\"\"\n",
        "\n",
        "# Matplotlib config\n",
        "plt.ioff()\n",
        "plt.rc('image', cmap='gray_r')\n",
        "plt.rc('grid', linewidth=1)\n",
        "plt.rc('xtick', top=False, bottom=False, labelsize='large')\n",
        "plt.rc('ytick', left=False, right=False, labelsize='large')\n",
        "plt.rc('axes', facecolor='F8F8F8', titlesize=\"large\", edgecolor='white')\n",
        "plt.rc('text', color='a8151a')\n",
        "plt.rc('figure', facecolor='F0F0F0', figsize=(16,9))\n",
        "# Matplotlib fonts\n",
        "MATPLOTLIB_FONT_DIR = os.path.join(os.path.dirname(plt.__file__), \"mpl-data/fonts/ttf\")\n",
        "\n",
        "# pull a batch from the datasets. This code is not very nice, it gets much better in eager mode (TODO)\n",
        "def dataset_to_numpy_util(training_dataset, validation_dataset, N):\n",
        "  \n",
        "  # get one batch from each: 10000 validation digits, N training digits\n",
        "  batch_train_ds = training_dataset.apply(tf.data.experimental.unbatch()).batch(N)\n",
        "  \n",
        "  # eager execution: loop through datasets normally\n",
        "  if tf.executing_eagerly():\n",
        "    for validation_digits, validation_labels in validation_dataset:\n",
        "      validation_digits = validation_digits.numpy()\n",
        "      validation_labels = validation_labels.numpy()\n",
        "      break\n",
        "    for training_digits, training_labels in batch_train_ds:\n",
        "      training_digits = training_digits.numpy()\n",
        "      training_labels = training_labels.numpy()\n",
        "      break\n",
        "    \n",
        "  else:\n",
        "    v_images, v_labels = validation_dataset.make_one_shot_iterator().get_next()\n",
        "    t_images, t_labels = batch_train_ds.make_one_shot_iterator().get_next()\n",
        "    # Run once, get one batch. Session.run returns numpy results\n",
        "    with tf.Session() as ses:\n",
        "      (validation_digits, validation_labels,\n",
        "       training_digits, training_labels) = ses.run([v_images, v_labels, t_images, t_labels])\n",
        "  \n",
        "  # these were one-hot encoded in the dataset\n",
        "  validation_labels = np.argmax(validation_labels, axis=1)\n",
        "  training_labels = np.argmax(training_labels, axis=1)\n",
        "  \n",
        "  return (training_digits, training_labels,\n",
        "          validation_digits, validation_labels)\n",
        "\n",
        "# create digits from local fonts for testing\n",
        "def create_digits_from_local_fonts(n):\n",
        "  font_labels = []\n",
        "  img = PIL.Image.new('LA', (28*n, 28), color = (0,255)) # format 'LA': black in channel 0, alpha in channel 1\n",
        "  font1 = PIL.ImageFont.truetype(os.path.join(MATPLOTLIB_FONT_DIR, 'DejaVuSansMono-Oblique.ttf'), 25)\n",
        "  font2 = PIL.ImageFont.truetype(os.path.join(MATPLOTLIB_FONT_DIR, 'STIXGeneral.ttf'), 25)\n",
        "  d = PIL.ImageDraw.Draw(img)\n",
        "  for i in range(n):\n",
        "    font_labels.append(i%10)\n",
        "    d.text((7+i*28,0 if i<10 else -4), str(i%10), fill=(255,255), font=font1 if i<10 else font2)\n",
        "  font_digits = np.array(img.getdata(), np.float32)[:,0] / 255.0 # black in channel 0, alpha in channel 1 (discarded)\n",
        "  font_digits = np.reshape(np.stack(np.split(np.reshape(font_digits, [28, 28*n]), n, axis=1), axis=0), [n, 28*28])\n",
        "  return font_digits, font_labels\n",
        "\n",
        "# utility to display a row of digits with their predictions\n",
        "def display_digits(digits, predictions, labels, title, n):\n",
        "  fig = plt.figure(figsize=(13,3))\n",
        "  digits = np.reshape(digits, [n, 28, 28])\n",
        "  digits = np.swapaxes(digits, 0, 1)\n",
        "  digits = np.reshape(digits, [28, 28*n])\n",
        "  plt.yticks([])\n",
        "  plt.xticks([28*x+14 for x in range(n)], predictions)\n",
        "  plt.grid(b=None)\n",
        "  for i,t in enumerate(plt.gca().xaxis.get_ticklabels()):\n",
        "    if predictions[i] != labels[i]: t.set_color('red') # bad predictions in red\n",
        "  plt.imshow(digits)\n",
        "  plt.grid(None)\n",
        "  plt.title(title)\n",
        "  display.display(fig)\n",
        "  \n",
        "# utility to display multiple rows of digits, sorted by unrecognized/recognized status\n",
        "def display_top_unrecognized(digits, predictions, labels, n, lines):\n",
        "  idx = np.argsort(predictions==labels) # sort order: unrecognized first\n",
        "  for i in range(lines):\n",
        "    display_digits(digits[idx][i*n:(i+1)*n], predictions[idx][i*n:(i+1)*n], labels[idx][i*n:(i+1)*n],\n",
        "                   \"{} sample validation digits out of {} with bad predictions in red and sorted first\".format(n*lines, len(digits)) if i==0 else \"\", n)\n",
        "\n",
        "def plot_learning_rate(lr_func, epochs):\n",
        "  xx = np.arange(epochs+1, dtype=np.float)\n",
        "  y = [lr_decay(x) for x in xx]\n",
        "  fig, ax = plt.subplots(figsize=(9, 6))\n",
        "  ax.set_xlabel('epochs')\n",
        "  ax.set_title('Learning rate\\ndecays from {:0.3g} to {:0.3g}'.format(y[0], y[-2]))\n",
        "  ax.minorticks_on()\n",
        "  ax.grid(True, which='major', axis='both', linestyle='-', linewidth=1)\n",
        "  ax.grid(True, which='minor', axis='both', linestyle=':', linewidth=0.5)\n",
        "  ax.step(xx,y, linewidth=3, where='post')\n",
        "  display.display(fig)\n",
        "\n",
        "class PlotTraining(tf.keras.callbacks.Callback):\n",
        "  def __init__(self, sample_rate=1, zoom=1):\n",
        "    self.sample_rate = sample_rate\n",
        "    self.step = 0\n",
        "    self.zoom = zoom\n",
        "    self.steps_per_epoch = 60000//BATCH_SIZE\n",
        "\n",
        "  def on_train_begin(self, logs={}):\n",
        "    self.batch_history = {}\n",
        "    self.batch_step = []\n",
        "    self.epoch_history = {}\n",
        "    self.epoch_step = []\n",
        "    self.fig, self.axes = plt.subplots(1, 2, figsize=(16, 7))\n",
        "    plt.ioff()\n",
        "\n",
        "  def on_batch_end(self, batch, logs={}):\n",
        "    if (batch % self.sample_rate) == 0:\n",
        "      self.batch_step.append(self.step)\n",
        "      for k,v in logs.items():\n",
        "        # do not log \"batch\" and \"size\" metrics that do not change\n",
        "        # do not log training accuracy \"acc\"\n",
        "        if k=='batch' or k=='size':# or k=='acc':\n",
        "          continue\n",
        "        self.batch_history.setdefault(k, []).append(v)\n",
        "    self.step += 1\n",
        "\n",
        "  def on_epoch_end(self, epoch, logs={}):\n",
        "    plt.close(self.fig)\n",
        "    self.axes[0].cla()\n",
        "    self.axes[1].cla()\n",
        "      \n",
        "#     self.axes[0].set_ylim(0, 1.2/self.zoom)\n",
        "#     self.axes[1].set_ylim(1-1/self.zoom/2, 1+0.1/self.zoom/2)\n",
        "    \n",
        "    self.epoch_step.append(self.step)\n",
        "    for k,v in logs.items():\n",
        "      # only log validation metrics\n",
        "      if not k.startswith('val_'):\n",
        "        continue\n",
        "      self.epoch_history.setdefault(k, []).append(v)\n",
        "\n",
        "    display.clear_output(wait=True)\n",
        "    \n",
        "    for k,v in self.batch_history.items():\n",
        "      self.axes[0 if k.endswith('loss') else 1].plot(np.array(self.batch_step) / self.steps_per_epoch, v, label=k)\n",
        "      \n",
        "    for k,v in self.epoch_history.items():\n",
        "      self.axes[0 if k.endswith('loss') else 1].plot(np.array(self.epoch_step) / self.steps_per_epoch, v, label=k, linewidth=3)\n",
        "      \n",
        "    self.axes[0].legend()\n",
        "    self.axes[1].legend()\n",
        "    self.axes[0].set_xlabel('epochs')\n",
        "    self.axes[1].set_xlabel('epochs')\n",
        "    self.axes[0].minorticks_on()\n",
        "    self.axes[0].grid(True, which='major', axis='both', linestyle='-', linewidth=1)\n",
        "    self.axes[0].grid(True, which='minor', axis='both', linestyle=':', linewidth=0.5)\n",
        "    self.axes[1].minorticks_on()\n",
        "    self.axes[1].grid(True, which='major', axis='both', linestyle='-', linewidth=1)\n",
        "    self.axes[1].grid(True, which='minor', axis='both', linestyle=':', linewidth=0.5)\n",
        "    display.display(self.fig)"
      ],
      "execution_count": 0,
      "outputs": []
    },
    {
      "cell_type": "markdown",
      "metadata": {
        "id": "iKZNOFr2mwl9",
        "colab_type": "text"
      },
      "source": [
        "the next part is to add train and test data,\n",
        "click run and upload from local environment"
      ]
    },
    {
      "cell_type": "code",
      "metadata": {
        "id": "84_KL-hEMGNG",
        "colab_type": "code",
        "outputId": "637226e9-cc24-44d9-a3a6-b85a1a8483f7",
        "colab": {
          "base_uri": "https://localhost:8080/",
          "height": 345
        }
      },
      "source": [
        "uploaded = files.upload()"
      ],
      "execution_count": 0,
      "outputs": [
        {
          "output_type": "display_data",
          "data": {
            "text/html": [
              "\n",
              "     <input type=\"file\" id=\"files-51a8242e-76cd-4c4f-81c2-d8a9d34e10bb\" name=\"files[]\" multiple disabled />\n",
              "     <output id=\"result-51a8242e-76cd-4c4f-81c2-d8a9d34e10bb\">\n",
              "      Upload widget is only available when the cell has been executed in the\n",
              "      current browser session. Please rerun this cell to enable.\n",
              "      </output>\n",
              "      <script src=\"/nbextensions/google.colab/files.js\"></script> "
            ],
            "text/plain": [
              "<IPython.core.display.HTML object>"
            ]
          },
          "metadata": {
            "tags": []
          }
        },
        {
          "output_type": "error",
          "ename": "MessageError",
          "evalue": "ignored",
          "traceback": [
            "\u001b[0;31m---------------------------------------------------------------------------\u001b[0m",
            "\u001b[0;31mMessageError\u001b[0m                              Traceback (most recent call last)",
            "\u001b[0;32m<ipython-input-63-ed2fd71b4a2f>\u001b[0m in \u001b[0;36m<module>\u001b[0;34m()\u001b[0m\n\u001b[0;32m----> 1\u001b[0;31m \u001b[0muploaded\u001b[0m \u001b[0;34m=\u001b[0m \u001b[0mfiles\u001b[0m\u001b[0;34m.\u001b[0m\u001b[0mupload\u001b[0m\u001b[0;34m(\u001b[0m\u001b[0;34m)\u001b[0m\u001b[0;34m\u001b[0m\u001b[0;34m\u001b[0m\u001b[0m\n\u001b[0m",
            "\u001b[0;32m/usr/local/lib/python3.6/dist-packages/google/colab/files.py\u001b[0m in \u001b[0;36mupload\u001b[0;34m()\u001b[0m\n\u001b[1;32m     62\u001b[0m   result = _output.eval_js(\n\u001b[1;32m     63\u001b[0m       'google.colab._files._uploadFiles(\"{input_id}\", \"{output_id}\")'.format(\n\u001b[0;32m---> 64\u001b[0;31m           input_id=input_id, output_id=output_id))\n\u001b[0m\u001b[1;32m     65\u001b[0m   \u001b[0mfiles\u001b[0m \u001b[0;34m=\u001b[0m \u001b[0m_collections\u001b[0m\u001b[0;34m.\u001b[0m\u001b[0mdefaultdict\u001b[0m\u001b[0;34m(\u001b[0m\u001b[0m_six\u001b[0m\u001b[0;34m.\u001b[0m\u001b[0mbinary_type\u001b[0m\u001b[0;34m)\u001b[0m\u001b[0;34m\u001b[0m\u001b[0;34m\u001b[0m\u001b[0m\n\u001b[1;32m     66\u001b[0m   \u001b[0;31m# Mapping from original filename to filename as saved locally.\u001b[0m\u001b[0;34m\u001b[0m\u001b[0;34m\u001b[0m\u001b[0;34m\u001b[0m\u001b[0m\n",
            "\u001b[0;32m/usr/local/lib/python3.6/dist-packages/google/colab/output/_js.py\u001b[0m in \u001b[0;36meval_js\u001b[0;34m(script, ignore_result)\u001b[0m\n\u001b[1;32m     37\u001b[0m   \u001b[0;32mif\u001b[0m \u001b[0mignore_result\u001b[0m\u001b[0;34m:\u001b[0m\u001b[0;34m\u001b[0m\u001b[0;34m\u001b[0m\u001b[0m\n\u001b[1;32m     38\u001b[0m     \u001b[0;32mreturn\u001b[0m\u001b[0;34m\u001b[0m\u001b[0;34m\u001b[0m\u001b[0m\n\u001b[0;32m---> 39\u001b[0;31m   \u001b[0;32mreturn\u001b[0m \u001b[0m_message\u001b[0m\u001b[0;34m.\u001b[0m\u001b[0mread_reply_from_input\u001b[0m\u001b[0;34m(\u001b[0m\u001b[0mrequest_id\u001b[0m\u001b[0;34m)\u001b[0m\u001b[0;34m\u001b[0m\u001b[0;34m\u001b[0m\u001b[0m\n\u001b[0m\u001b[1;32m     40\u001b[0m \u001b[0;34m\u001b[0m\u001b[0m\n\u001b[1;32m     41\u001b[0m \u001b[0;34m\u001b[0m\u001b[0m\n",
            "\u001b[0;32m/usr/local/lib/python3.6/dist-packages/google/colab/_message.py\u001b[0m in \u001b[0;36mread_reply_from_input\u001b[0;34m(message_id, timeout_sec)\u001b[0m\n\u001b[1;32m    104\u001b[0m         reply.get('colab_msg_id') == message_id):\n\u001b[1;32m    105\u001b[0m       \u001b[0;32mif\u001b[0m \u001b[0;34m'error'\u001b[0m \u001b[0;32min\u001b[0m \u001b[0mreply\u001b[0m\u001b[0;34m:\u001b[0m\u001b[0;34m\u001b[0m\u001b[0;34m\u001b[0m\u001b[0m\n\u001b[0;32m--> 106\u001b[0;31m         \u001b[0;32mraise\u001b[0m \u001b[0mMessageError\u001b[0m\u001b[0;34m(\u001b[0m\u001b[0mreply\u001b[0m\u001b[0;34m[\u001b[0m\u001b[0;34m'error'\u001b[0m\u001b[0;34m]\u001b[0m\u001b[0;34m)\u001b[0m\u001b[0;34m\u001b[0m\u001b[0;34m\u001b[0m\u001b[0m\n\u001b[0m\u001b[1;32m    107\u001b[0m       \u001b[0;32mreturn\u001b[0m \u001b[0mreply\u001b[0m\u001b[0;34m.\u001b[0m\u001b[0mget\u001b[0m\u001b[0;34m(\u001b[0m\u001b[0;34m'data'\u001b[0m\u001b[0;34m,\u001b[0m \u001b[0;32mNone\u001b[0m\u001b[0;34m)\u001b[0m\u001b[0;34m\u001b[0m\u001b[0;34m\u001b[0m\u001b[0m\n\u001b[1;32m    108\u001b[0m \u001b[0;34m\u001b[0m\u001b[0m\n",
            "\u001b[0;31mMessageError\u001b[0m: TypeError: Cannot read property '_uploadFiles' of undefined"
          ]
        }
      ]
    },
    {
      "cell_type": "code",
      "metadata": {
        "id": "34KSRHjrNWk8",
        "colab_type": "code",
        "colab": {}
      },
      "source": [
        "import pandas as pd\n",
        "df = pd.read_csv('interact_costas2.csv', header=None)\n",
        "\n",
        "# shuffle data if necessary\n",
        "# df = df.iloc[0:90000,:]\n",
        "# df = df.sample(frac=1, axis=0).reset_index(drop=False)\n",
        "\n",
        "\n",
        "# # format of train/test data\n",
        "# # [x y z]\n",
        "# # energy [kJ/mol]\n",
        "train_cord = df.iloc[0:train_size, 0:3].values\n",
        "train_cord = train_cord - 0.5\n",
        "train_label1 = df.iloc[0:train_size, 3].values\n",
        "train_label1 = np.reshape(train_label1, (train_size, 1))\n",
        "\n",
        "valid_cord = df.iloc[train_size:(train_size+test_size), 0:3].values\n",
        "valid_cord = valid_cord - 0.5\n",
        "valid_label1 = df.iloc[train_size:(train_size+test_size),3].values\n",
        "valid_label1 = np.reshape(valid_label1, (test_size, 1))\n",
        "\n",
        "\n",
        "\n",
        "# power transformation of energy\n",
        "# from train data\n",
        "scaler = PowerTransformer(method=\"box-cox\")\n",
        "train_label2 = scaler.fit_transform(train_label1)\n",
        "valid_label2 = scaler.transform(valid_label1)\n",
        "\n",
        "# shift = np.min(train_label2)\n",
        "# print(shift)\n",
        "\n",
        "train_label = train_label2\n",
        "valid_label = valid_label2\n",
        "\n",
        "df2 = pd.DataFrame(np.vstack([train_label, valid_label]))\n",
        "df2.to_csv('output_transformed.csv', index=False, header=False)\n",
        "# print(np.min(train_label),np.max(train_label), np.min(train_cord), np.max(train_cord), np.mean(train_label))"
      ],
      "execution_count": 0,
      "outputs": []
    },
    {
      "cell_type": "markdown",
      "metadata": {
        "id": "Laf1kWvNy01Y",
        "colab_type": "text"
      },
      "source": [
        "check train and test data dimensions "
      ]
    },
    {
      "cell_type": "code",
      "metadata": {
        "id": "_NahhIBaNo3l",
        "colab_type": "code",
        "outputId": "ddb4fd50-2ab9-4840-8ba8-9f2192ae4126",
        "colab": {
          "base_uri": "https://localhost:8080/",
          "height": 35
        }
      },
      "source": [
        "train_cord.shape"
      ],
      "execution_count": 0,
      "outputs": [
        {
          "output_type": "execute_result",
          "data": {
            "text/plain": [
              "(200000, 3)"
            ]
          },
          "metadata": {
            "tags": []
          },
          "execution_count": 65
        }
      ]
    },
    {
      "cell_type": "code",
      "metadata": {
        "id": "A8UBr2vb9IEJ",
        "colab_type": "code",
        "outputId": "cc5cb6d2-0146-463c-fba0-14feadb683f9",
        "colab": {
          "base_uri": "https://localhost:8080/",
          "height": 35
        }
      },
      "source": [
        "train_label1.shape"
      ],
      "execution_count": 0,
      "outputs": [
        {
          "output_type": "execute_result",
          "data": {
            "text/plain": [
              "(200000, 1)"
            ]
          },
          "metadata": {
            "tags": []
          },
          "execution_count": 66
        }
      ]
    },
    {
      "cell_type": "code",
      "metadata": {
        "id": "UEt5yJBMlRRf",
        "colab_type": "code",
        "outputId": "2bc077da-0044-4fdc-e3ac-7ccb147a55a1",
        "colab": {
          "base_uri": "https://localhost:8080/",
          "height": 35
        }
      },
      "source": [
        "valid_cord.shape"
      ],
      "execution_count": 0,
      "outputs": [
        {
          "output_type": "execute_result",
          "data": {
            "text/plain": [
              "(100000, 3)"
            ]
          },
          "metadata": {
            "tags": []
          },
          "execution_count": 67
        }
      ]
    },
    {
      "cell_type": "code",
      "metadata": {
        "id": "eX-KyU8clOyn",
        "colab_type": "code",
        "outputId": "632f3d5d-5fb1-4a79-95f9-659f3ef84748",
        "colab": {
          "base_uri": "https://localhost:8080/",
          "height": 35
        }
      },
      "source": [
        "valid_label1.shape"
      ],
      "execution_count": 0,
      "outputs": [
        {
          "output_type": "execute_result",
          "data": {
            "text/plain": [
              "(100000, 1)"
            ]
          },
          "metadata": {
            "tags": []
          },
          "execution_count": 68
        }
      ]
    },
    {
      "cell_type": "markdown",
      "metadata": {
        "id": "Q56OGxwczCFa",
        "colab_type": "text"
      },
      "source": [
        "this is the part to set up NN model\n",
        "sequentially we add layers with # of neurons and activation defined\n",
        "\n",
        "the shape of the layers will printed in the next section"
      ]
    },
    {
      "cell_type": "code",
      "metadata": {
        "id": "dJZ1J_f5Nvln",
        "colab_type": "code",
        "colab": {}
      },
      "source": [
        "from keras import models\n",
        "from keras import layers\n",
        "\n",
        "network = models.Sequential()\n",
        "elu = keras.layers.ELU(alpha=5.0)\n",
        "network.add(layers.Dense(12, activation='elu', input_shape=(train_cord.shape[1],)))\n",
        "network.add(layers.Dense(12, activation='elu'))\n",
        "network.add(layers.Dense(6, activation='elu'))\n",
        "network.add(layers.Dense(6, activation='elu'))\n",
        "network.add(layers.Dense(1))"
      ],
      "execution_count": 0,
      "outputs": []
    },
    {
      "cell_type": "markdown",
      "metadata": {
        "id": "sK1gyR0vzODZ",
        "colab_type": "text"
      },
      "source": [
        "this is the part to set up your optimizer for fitting the model\n",
        "we use Stochastic gradient descent (please refer to documentation for details)\n",
        "\n",
        "also compile the whole thing with the settings of optimizer, loss function of mean square error, and metrics of mean absolute error\n",
        "\n",
        "set up a cool learning rate feature to control step of optimization"
      ]
    },
    {
      "cell_type": "code",
      "metadata": {
        "id": "6Q7HJyfSRYyJ",
        "colab_type": "code",
        "outputId": "9ba11e1f-7cf8-4148-807a-b360aa5e4dc0",
        "colab": {
          "base_uri": "https://localhost:8080/",
          "height": 345
        }
      },
      "source": [
        "from keras import optimizers\n",
        "\n",
        "# All parameter gradients will be clipped to\n",
        "# a maximum norm of 1.\n",
        "adam = optimizers.Adam(lr=0.001, beta_1=0.9, beta_2=0.999, amsgrad=False)\n",
        "\n",
        "network.compile(optimizer=adam,\n",
        "                loss='mse',\n",
        "                metrics=['mae'])\n",
        "\n",
        "# lr decay function\n",
        "# def lr_decay(epoch):\n",
        "  # return 1 * math.pow(0.97, epoch)\n",
        "\n",
        "# lr schedule callback\n",
        "# lr_decay_callback = tf.keras.callbacks.LearningRateScheduler(lr_decay, verbose=True)\n",
        "\n",
        "# important to see what you are doing\n",
        "# plot_learning_rate(lr_decay, EPOCHS)\n",
        "\n",
        "\n",
        "# print model layers\n",
        "network.summary()\n",
        "\n",
        "# utility callback that displays training curves\n",
        "plot_training = PlotTraining(sample_rate=10, zoom=1)"
      ],
      "execution_count": 0,
      "outputs": [
        {
          "output_type": "stream",
          "text": [
            "Model: \"sequential_5\"\n",
            "_________________________________________________________________\n",
            "Layer (type)                 Output Shape              Param #   \n",
            "=================================================================\n",
            "dense_21 (Dense)             (None, 12)                48        \n",
            "_________________________________________________________________\n",
            "dense_22 (Dense)             (None, 12)                156       \n",
            "_________________________________________________________________\n",
            "dense_23 (Dense)             (None, 6)                 78        \n",
            "_________________________________________________________________\n",
            "dense_24 (Dense)             (None, 6)                 42        \n",
            "_________________________________________________________________\n",
            "dense_25 (Dense)             (None, 1)                 7         \n",
            "=================================================================\n",
            "Total params: 331\n",
            "Trainable params: 331\n",
            "Non-trainable params: 0\n",
            "_________________________________________________________________\n"
          ],
          "name": "stdout"
        }
      ]
    },
    {
      "cell_type": "code",
      "metadata": {
        "id": "x6k-ckZjDCvH",
        "colab_type": "code",
        "outputId": "94935944-f168-4072-a70d-9ff5f104d999",
        "colab": {
          "base_uri": "https://localhost:8080/",
          "height": 449
        }
      },
      "source": [
        "steps_per_epoch = train_size//BATCH_SIZE \n",
        "print(\"Steps per epoch: \", steps_per_epoch)\n",
        "\n",
        "\n",
        "history = network.fit(train_cord, train_label, steps_per_epoch=steps_per_epoch, epochs=EPOCHS,\n",
        "                      validation_data=(valid_cord, valid_label), validation_steps=steps_per_epoch, callbacks=[plot_training])\n"
      ],
      "execution_count": 0,
      "outputs": [
        {
          "output_type": "display_data",
          "data": {
            "image/png": "[encoded data removed]",
            "text/plain": [
              "<Figure size 1152x504 with 2 Axes>"
            ]
          },
          "metadata": {
            "tags": []
          }
        }
      ]
    },
    {
      "cell_type": "code",
      "metadata": {
        "id": "Y1HMp5btwqdt",
        "colab_type": "code",
        "outputId": "4524cd28-dbf3-441e-a31a-563f0f965304",
        "colab": {
          "base_uri": "https://localhost:8080/",
          "height": 1000
        }
      },
      "source": [
        "for layer in network.layers:\n",
        "    weights = layer.get_weights()\n",
        "    print(*(node for node in weights))# ( for node in layer.get_weights())"
      ],
      "execution_count": 0,
      "outputs": [
        {
          "output_type": "stream",
          "text": [
            "[[ 1.2860577e-02 -7.7435702e-01 -1.0463099e+00  7.7468789e-01\n",
            "   1.5240220e+00  1.6488894e+00 -1.8305457e-01  1.7844149e+00\n",
            "  -1.0738413e+00  1.5484117e+00 -1.2390127e-01 -2.6024154e-01]\n",
            " [-8.8593280e-01  4.3804801e-01 -1.6045647e-03 -1.1270881e-01\n",
            "  -1.8962280e-01 -1.0027838e-01 -9.2057431e-01  2.0941478e-01\n",
            "   9.1912127e-01 -5.4237604e-01  1.0808675e+00 -1.9952003e+00]\n",
            " [-4.8520193e-01  8.5005736e-01 -7.1878242e-01 -9.4816291e-01\n",
            "  -7.8058076e-01  5.0972915e-01 -2.4737059e-01  1.8883672e-01\n",
            "  -1.6039816e-01  7.5659439e-02 -1.7698017e-01 -6.0255114e-02]] [ 0.34505996  0.09185139  0.2913909   0.29200435  0.6155433  -0.50466424\n",
            "  0.5611848   0.57218    -0.09880361  0.50757116  0.42646983  0.6109872 ]\n",
            "[[ 0.8855022  -0.3758931   0.5220292  -0.49955535  0.05879715 -0.18045145\n",
            "  -0.07527043  0.19530396  0.6141534   0.5450204  -0.44885775 -0.31746444]\n",
            " [-1.3859849  -0.05496614  0.6672983   1.052624   -0.12677194 -0.5056294\n",
            "  -0.23363192 -0.44745046 -0.7683501   0.2866181   0.5855198   0.654332  ]\n",
            " [-0.0623767   0.0798014   0.80779636  0.49047267 -0.23957834  0.64197737\n",
            "  -1.0043122   0.54681146  0.08673783  0.41060615  0.66361624  0.16625546]\n",
            " [ 0.6333447   0.44665635 -0.0918015  -0.18161009 -0.23252651  0.29931754\n",
            "   0.6387685   0.2007395   0.94155353 -0.42010847  0.0510515  -0.6850916 ]\n",
            " [ 0.88486826  0.18319617 -0.91480196  0.9463644   0.7141598   1.1303067\n",
            "   0.60833937  0.6772495   0.68579096 -0.21819283  0.46033782 -0.5687139 ]\n",
            " [-0.6247777  -0.5257275   0.0998937   0.16833338 -0.14013986  0.09952011\n",
            "   0.57574904 -0.5565297  -0.5757365  -0.7032033   0.48421377  1.1525207 ]\n",
            " [ 0.6050097   0.16683991  0.7266179  -0.49008298 -0.89568394 -0.6265845\n",
            "   0.01721606 -0.09617177  0.6767189   0.30944654 -0.52156055  0.05933993]\n",
            " [-1.3132664   0.29762498 -0.8588145   0.53579146  0.8253031  -0.5045285\n",
            "  -0.11573399  0.63660336  0.23664893 -0.1963808   0.6781072   0.7669179 ]\n",
            " [-0.58663285 -0.30047747  0.19566149  0.7519335   0.62113833  1.0349303\n",
            "  -0.66178393  0.35452193  1.4609579   0.9379617   0.18633933  0.5056674 ]\n",
            " [-0.7193447   0.8740943  -0.5706491  -0.38294718  0.1622545  -0.58418465\n",
            "   0.69101954 -0.4052543  -0.43140173 -0.01158155 -0.84173954  0.513458  ]\n",
            " [-0.74304515 -0.36779255  0.72616464  0.9714713   0.12713261 -0.31095362\n",
            "  -0.600659    0.1566822  -0.24214986  0.21253507  0.78435975  0.21264018]\n",
            " [-0.7686857   0.01413595  0.21728104 -0.67158467 -0.49759564  0.340995\n",
            "  -1.0728247  -0.5463277  -0.32605988  0.69807345 -0.9590692  -0.13627242]] [-0.3987765   0.4769876  -0.40967554 -0.05246779 -0.48055196 -0.36455336\n",
            " -0.20067316  0.25742438  0.04862053  0.23600803 -0.16269699  0.22097743]\n",
            "[[ 5.0367266e-01 -6.5693396e-01  1.0249630e+00 -5.9049201e-01\n",
            "   6.4946973e-01  2.4830166e-01]\n",
            " [ 5.4660439e-01 -5.3150725e-01  5.9365880e-01  3.5997289e-01\n",
            "  -2.0916289e-02 -3.4837449e-01]\n",
            " [ 8.0428983e-04 -8.6858898e-01  8.0651772e-01  4.9715462e-01\n",
            "   6.0838211e-01 -4.7125316e-01]\n",
            " [-1.7468910e-01  7.3856080e-01 -1.0341132e+00 -3.9872736e-01\n",
            "  -6.0168105e-01 -6.4802997e-02]\n",
            " [-3.2214311e-01  9.0341961e-01 -1.8234399e-01 -5.6831998e-01\n",
            "  -4.0421945e-01  1.3093675e+00]\n",
            " [-4.5813873e-01  5.7465736e-02 -5.7840705e-02 -1.0685145e+00\n",
            "  -2.3245618e-01  2.4319768e-01]\n",
            " [ 9.9139318e-02 -4.3674365e-01  3.3879554e-01  6.4284340e-02\n",
            "   4.8615968e-01 -6.9099462e-01]\n",
            " [-3.2878068e-01 -1.7869931e-01 -7.9167396e-01 -8.1104332e-01\n",
            "   4.8772842e-01 -6.0363698e-01]\n",
            " [ 7.9308227e-02  7.4681747e-01 -4.1792616e-01 -7.9121041e-01\n",
            "   5.3542531e-01  3.6623519e-02]\n",
            " [-5.0410765e-01  6.8027526e-01 -5.5959088e-01 -4.4303125e-01\n",
            "  -4.6689200e-01  7.2600091e-01]\n",
            " [-1.2216995e-01 -1.8757303e+00 -8.8329768e-01  1.1834863e+00\n",
            "   1.2672600e+00 -2.6894930e-01]\n",
            " [-3.0535301e-02  6.5780962e-01 -2.3514935e-01  1.7808847e-01\n",
            "  -1.1157353e+00 -7.5704105e-02]] [-0.46124047  0.0220611  -0.18541408  0.02087238 -0.59761655 -0.03383752]\n",
            "[[-0.5701139  -0.5932301   0.01197409 -0.3547385   0.7508933   0.7600074 ]\n",
            " [-0.4768626  -0.9601607   0.88987505 -1.1041853   0.63672936  0.7167314 ]\n",
            " [ 0.3794259   0.325639   -0.64296234  0.42610335 -0.6676083  -0.41000906]\n",
            " [ 0.74229735 -1.2236671  -0.38526666 -1.2700185  -0.2618303  -0.04126119]\n",
            " [-1.1949478  -1.0731449   0.9370747  -1.2177373  -0.34842873  0.50874037]\n",
            " [-0.49706775 -0.69823533  0.92628413 -0.7903459   1.1172718   0.6651224 ]] [ 0.6012543  -0.27910447  0.35167617 -0.48054975 -0.3625438  -0.17201795]\n",
            "[[-0.5054795 ]\n",
            " [-0.9959849 ]\n",
            " [-0.25856975]\n",
            " [-1.1586884 ]\n",
            " [-1.5328281 ]\n",
            " [-0.97551805]] [0.55804896]\n"
          ],
          "name": "stdout"
        }
      ]
    },
    {
      "cell_type": "code",
      "metadata": {
        "id": "c_Tj2BOjUST-",
        "colab_type": "code",
        "outputId": "fd5874d8-2bf9-4a5b-fbcb-936b722e1b85",
        "colab": {
          "base_uri": "https://localhost:8080/",
          "height": 199
        }
      },
      "source": [
        "train_pred = network.predict(train_cord)\n",
        "valid_pred = network.predict(valid_cord)\n",
        "\n",
        "train_pred_inverse = scaler.inverse_transform(train_pred)\n",
        "valid_pred_inverse = scaler.inverse_transform(valid_pred)\n",
        "\n",
        "print(train_pred_inverse[0:10])"
      ],
      "execution_count": 0,
      "outputs": [
        {
          "output_type": "stream",
          "text": [
            "[[  20.331291]\n",
            " [ 170.20848 ]\n",
            " [ 170.37076 ]\n",
            " [  30.039268]\n",
            " [8243.925   ]\n",
            " [  55.698875]\n",
            " [ 199.95714 ]\n",
            " [  98.70259 ]\n",
            " [ 231.7175  ]\n",
            " [ 158.81721 ]]\n"
          ],
          "name": "stdout"
        }
      ]
    },
    {
      "cell_type": "code",
      "metadata": {
        "id": "HOWChmh3xsib",
        "colab_type": "code",
        "colab": {}
      },
      "source": [
        ""
      ],
      "execution_count": 0,
      "outputs": []
    }
  ]
}